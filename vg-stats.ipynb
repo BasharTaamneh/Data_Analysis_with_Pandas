{
 "cells": [
  {
   "cell_type": "code",
   "execution_count": 1,
   "metadata": {},
   "outputs": [
    {
     "name": "stdout",
     "output_type": "stream",
     "text": [
      "Data Analysis with Pandas\n"
     ]
    }
   ],
   "source": [
    "print(\"Data Analysis with Pandas\")"
   ]
  },
  {
   "cell_type": "markdown",
   "metadata": {},
   "source": [
    "# Data Analysis with Pandas"
   ]
  },
  {
   "cell_type": "markdown",
   "metadata": {},
   "source": [
    "## vg-stats"
   ]
  },
  {
   "cell_type": "code",
   "execution_count": 2,
   "metadata": {},
   "outputs": [
    {
     "data": {
      "text/html": [
       "<div>\n",
       "<style scoped>\n",
       "    .dataframe tbody tr th:only-of-type {\n",
       "        vertical-align: middle;\n",
       "    }\n",
       "\n",
       "    .dataframe tbody tr th {\n",
       "        vertical-align: top;\n",
       "    }\n",
       "\n",
       "    .dataframe thead th {\n",
       "        text-align: right;\n",
       "    }\n",
       "</style>\n",
       "<table border=\"1\" class=\"dataframe\">\n",
       "  <thead>\n",
       "    <tr style=\"text-align: right;\">\n",
       "      <th></th>\n",
       "      <th>Rank</th>\n",
       "      <th>Year</th>\n",
       "      <th>NA_Sales</th>\n",
       "      <th>EU_Sales</th>\n",
       "      <th>JP_Sales</th>\n",
       "      <th>Other_Sales</th>\n",
       "      <th>Global_Sales</th>\n",
       "    </tr>\n",
       "  </thead>\n",
       "  <tbody>\n",
       "    <tr>\n",
       "      <th>count</th>\n",
       "      <td>16598.000000</td>\n",
       "      <td>16327.000000</td>\n",
       "      <td>16598.000000</td>\n",
       "      <td>16598.000000</td>\n",
       "      <td>16598.000000</td>\n",
       "      <td>16598.000000</td>\n",
       "      <td>16598.000000</td>\n",
       "    </tr>\n",
       "    <tr>\n",
       "      <th>mean</th>\n",
       "      <td>8300.605254</td>\n",
       "      <td>2006.406443</td>\n",
       "      <td>0.264667</td>\n",
       "      <td>0.146652</td>\n",
       "      <td>0.077782</td>\n",
       "      <td>0.048063</td>\n",
       "      <td>0.537441</td>\n",
       "    </tr>\n",
       "    <tr>\n",
       "      <th>std</th>\n",
       "      <td>4791.853933</td>\n",
       "      <td>5.828981</td>\n",
       "      <td>0.816683</td>\n",
       "      <td>0.505351</td>\n",
       "      <td>0.309291</td>\n",
       "      <td>0.188588</td>\n",
       "      <td>1.555028</td>\n",
       "    </tr>\n",
       "    <tr>\n",
       "      <th>min</th>\n",
       "      <td>1.000000</td>\n",
       "      <td>1980.000000</td>\n",
       "      <td>0.000000</td>\n",
       "      <td>0.000000</td>\n",
       "      <td>0.000000</td>\n",
       "      <td>0.000000</td>\n",
       "      <td>0.010000</td>\n",
       "    </tr>\n",
       "    <tr>\n",
       "      <th>25%</th>\n",
       "      <td>4151.250000</td>\n",
       "      <td>2003.000000</td>\n",
       "      <td>0.000000</td>\n",
       "      <td>0.000000</td>\n",
       "      <td>0.000000</td>\n",
       "      <td>0.000000</td>\n",
       "      <td>0.060000</td>\n",
       "    </tr>\n",
       "    <tr>\n",
       "      <th>50%</th>\n",
       "      <td>8300.500000</td>\n",
       "      <td>2007.000000</td>\n",
       "      <td>0.080000</td>\n",
       "      <td>0.020000</td>\n",
       "      <td>0.000000</td>\n",
       "      <td>0.010000</td>\n",
       "      <td>0.170000</td>\n",
       "    </tr>\n",
       "    <tr>\n",
       "      <th>75%</th>\n",
       "      <td>12449.750000</td>\n",
       "      <td>2010.000000</td>\n",
       "      <td>0.240000</td>\n",
       "      <td>0.110000</td>\n",
       "      <td>0.040000</td>\n",
       "      <td>0.040000</td>\n",
       "      <td>0.470000</td>\n",
       "    </tr>\n",
       "    <tr>\n",
       "      <th>max</th>\n",
       "      <td>16600.000000</td>\n",
       "      <td>2020.000000</td>\n",
       "      <td>41.490000</td>\n",
       "      <td>29.020000</td>\n",
       "      <td>10.220000</td>\n",
       "      <td>10.570000</td>\n",
       "      <td>82.740000</td>\n",
       "    </tr>\n",
       "  </tbody>\n",
       "</table>\n",
       "</div>"
      ],
      "text/plain": [
       "               Rank          Year      NA_Sales      EU_Sales      JP_Sales  \\\n",
       "count  16598.000000  16327.000000  16598.000000  16598.000000  16598.000000   \n",
       "mean    8300.605254   2006.406443      0.264667      0.146652      0.077782   \n",
       "std     4791.853933      5.828981      0.816683      0.505351      0.309291   \n",
       "min        1.000000   1980.000000      0.000000      0.000000      0.000000   \n",
       "25%     4151.250000   2003.000000      0.000000      0.000000      0.000000   \n",
       "50%     8300.500000   2007.000000      0.080000      0.020000      0.000000   \n",
       "75%    12449.750000   2010.000000      0.240000      0.110000      0.040000   \n",
       "max    16600.000000   2020.000000     41.490000     29.020000     10.220000   \n",
       "\n",
       "        Other_Sales  Global_Sales  \n",
       "count  16598.000000  16598.000000  \n",
       "mean       0.048063      0.537441  \n",
       "std        0.188588      1.555028  \n",
       "min        0.000000      0.010000  \n",
       "25%        0.000000      0.060000  \n",
       "50%        0.010000      0.170000  \n",
       "75%        0.040000      0.470000  \n",
       "max       10.570000     82.740000  "
      ]
     },
     "execution_count": 2,
     "metadata": {},
     "output_type": "execute_result"
    }
   ],
   "source": [
    "import pandas as pd\n",
    "data_folder = pd.read_csv('./vgsales.csv')\n",
    "data_folder.describe()\n"
   ]
  },
  {
   "cell_type": "markdown",
   "metadata": {},
   "source": [
    "### Which company is the most common video game publisher?"
   ]
  },
  {
   "cell_type": "code",
   "execution_count": 3,
   "metadata": {},
   "outputs": [
    {
     "data": {
      "text/plain": [
       "'Electronic Arts'"
      ]
     },
     "execution_count": 3,
     "metadata": {},
     "output_type": "execute_result"
    }
   ],
   "source": [
    "def most_common_publisher():\n",
    "    publisher = data_folder['Publisher']\n",
    "    mos_com_publisher = publisher.value_counts().idxmax()\n",
    "    return mos_com_publisher\n",
    "\n",
    "\n",
    "most_common_publisher()\n"
   ]
  },
  {
   "cell_type": "markdown",
   "metadata": {},
   "source": [
    "### What’s the most common platform?"
   ]
  },
  {
   "cell_type": "code",
   "execution_count": 4,
   "metadata": {},
   "outputs": [
    {
     "data": {
      "text/plain": [
       "'DS'"
      ]
     },
     "execution_count": 4,
     "metadata": {},
     "output_type": "execute_result"
    }
   ],
   "source": [
    "def most_common_platform():\n",
    "    platform = data_folder['Platform']\n",
    "    mos_com_platform = platform.value_counts().idxmax()\n",
    "    return mos_com_platform\n",
    "\n",
    "most_common_platform()\n"
   ]
  },
  {
   "cell_type": "markdown",
   "metadata": {},
   "source": [
    "### What about the most common genre?"
   ]
  },
  {
   "cell_type": "code",
   "execution_count": 5,
   "metadata": {},
   "outputs": [
    {
     "data": {
      "text/plain": [
       "'Action'"
      ]
     },
     "execution_count": 5,
     "metadata": {},
     "output_type": "execute_result"
    }
   ],
   "source": [
    "def most_common_Genre():\n",
    "    Genre = data_folder['Genre']\n",
    "    mos_com_Genre = Genre.value_counts().idxmax()\n",
    "    return mos_com_Genre\n",
    "    \n",
    "most_common_Genre()\n"
   ]
  },
  {
   "cell_type": "markdown",
   "metadata": {},
   "source": [
    "### What are the top 20 highest grossing games?"
   ]
  },
  {
   "cell_type": "code",
   "execution_count": 6,
   "metadata": {},
   "outputs": [
    {
     "data": {
      "text/html": [
       "<div>\n",
       "<style scoped>\n",
       "    .dataframe tbody tr th:only-of-type {\n",
       "        vertical-align: middle;\n",
       "    }\n",
       "\n",
       "    .dataframe tbody tr th {\n",
       "        vertical-align: top;\n",
       "    }\n",
       "\n",
       "    .dataframe thead th {\n",
       "        text-align: right;\n",
       "    }\n",
       "</style>\n",
       "<table border=\"1\" class=\"dataframe\">\n",
       "  <thead>\n",
       "    <tr style=\"text-align: right;\">\n",
       "      <th></th>\n",
       "      <th>Name</th>\n",
       "      <th>Global_Sales</th>\n",
       "    </tr>\n",
       "  </thead>\n",
       "  <tbody>\n",
       "    <tr>\n",
       "      <th>0</th>\n",
       "      <td>Wii Sports</td>\n",
       "      <td>82.74</td>\n",
       "    </tr>\n",
       "    <tr>\n",
       "      <th>1</th>\n",
       "      <td>Super Mario Bros.</td>\n",
       "      <td>40.24</td>\n",
       "    </tr>\n",
       "    <tr>\n",
       "      <th>2</th>\n",
       "      <td>Mario Kart Wii</td>\n",
       "      <td>35.82</td>\n",
       "    </tr>\n",
       "    <tr>\n",
       "      <th>3</th>\n",
       "      <td>Wii Sports Resort</td>\n",
       "      <td>33.00</td>\n",
       "    </tr>\n",
       "    <tr>\n",
       "      <th>4</th>\n",
       "      <td>Pokemon Red/Pokemon Blue</td>\n",
       "      <td>31.37</td>\n",
       "    </tr>\n",
       "    <tr>\n",
       "      <th>5</th>\n",
       "      <td>Tetris</td>\n",
       "      <td>30.26</td>\n",
       "    </tr>\n",
       "    <tr>\n",
       "      <th>6</th>\n",
       "      <td>New Super Mario Bros.</td>\n",
       "      <td>30.01</td>\n",
       "    </tr>\n",
       "    <tr>\n",
       "      <th>7</th>\n",
       "      <td>Wii Play</td>\n",
       "      <td>29.02</td>\n",
       "    </tr>\n",
       "    <tr>\n",
       "      <th>8</th>\n",
       "      <td>New Super Mario Bros. Wii</td>\n",
       "      <td>28.62</td>\n",
       "    </tr>\n",
       "    <tr>\n",
       "      <th>9</th>\n",
       "      <td>Duck Hunt</td>\n",
       "      <td>28.31</td>\n",
       "    </tr>\n",
       "    <tr>\n",
       "      <th>10</th>\n",
       "      <td>Nintendogs</td>\n",
       "      <td>24.76</td>\n",
       "    </tr>\n",
       "    <tr>\n",
       "      <th>11</th>\n",
       "      <td>Mario Kart DS</td>\n",
       "      <td>23.42</td>\n",
       "    </tr>\n",
       "    <tr>\n",
       "      <th>12</th>\n",
       "      <td>Pokemon Gold/Pokemon Silver</td>\n",
       "      <td>23.10</td>\n",
       "    </tr>\n",
       "    <tr>\n",
       "      <th>13</th>\n",
       "      <td>Wii Fit</td>\n",
       "      <td>22.72</td>\n",
       "    </tr>\n",
       "    <tr>\n",
       "      <th>14</th>\n",
       "      <td>Wii Fit Plus</td>\n",
       "      <td>22.00</td>\n",
       "    </tr>\n",
       "    <tr>\n",
       "      <th>15</th>\n",
       "      <td>Kinect Adventures!</td>\n",
       "      <td>21.82</td>\n",
       "    </tr>\n",
       "    <tr>\n",
       "      <th>16</th>\n",
       "      <td>Grand Theft Auto V</td>\n",
       "      <td>21.40</td>\n",
       "    </tr>\n",
       "    <tr>\n",
       "      <th>17</th>\n",
       "      <td>Grand Theft Auto: San Andreas</td>\n",
       "      <td>20.81</td>\n",
       "    </tr>\n",
       "    <tr>\n",
       "      <th>18</th>\n",
       "      <td>Super Mario World</td>\n",
       "      <td>20.61</td>\n",
       "    </tr>\n",
       "    <tr>\n",
       "      <th>19</th>\n",
       "      <td>Brain Age: Train Your Brain in Minutes a Day</td>\n",
       "      <td>20.22</td>\n",
       "    </tr>\n",
       "  </tbody>\n",
       "</table>\n",
       "</div>"
      ],
      "text/plain": [
       "                                            Name  Global_Sales\n",
       "0                                     Wii Sports         82.74\n",
       "1                              Super Mario Bros.         40.24\n",
       "2                                 Mario Kart Wii         35.82\n",
       "3                              Wii Sports Resort         33.00\n",
       "4                       Pokemon Red/Pokemon Blue         31.37\n",
       "5                                         Tetris         30.26\n",
       "6                          New Super Mario Bros.         30.01\n",
       "7                                       Wii Play         29.02\n",
       "8                      New Super Mario Bros. Wii         28.62\n",
       "9                                      Duck Hunt         28.31\n",
       "10                                    Nintendogs         24.76\n",
       "11                                 Mario Kart DS         23.42\n",
       "12                   Pokemon Gold/Pokemon Silver         23.10\n",
       "13                                       Wii Fit         22.72\n",
       "14                                  Wii Fit Plus         22.00\n",
       "15                            Kinect Adventures!         21.82\n",
       "16                            Grand Theft Auto V         21.40\n",
       "17                 Grand Theft Auto: San Andreas         20.81\n",
       "18                             Super Mario World         20.61\n",
       "19  Brain Age: Train Your Brain in Minutes a Day         20.22"
      ]
     },
     "execution_count": 6,
     "metadata": {},
     "output_type": "execute_result"
    }
   ],
   "source": [
    "def top_twenty_highest_grossing_games():\n",
    "    highest_grossing = data_folder[[\"Name\", \"Global_Sales\"]]\n",
    "    top_highest_grossing = highest_grossing.sort_values(\"Global_Sales\", ascending=False).iloc[:20]\n",
    "    return top_highest_grossing\n",
    "\n",
    "\n",
    "top_twenty_highest_grossing_games()\n"
   ]
  },
  {
   "cell_type": "markdown",
   "metadata": {},
   "source": [
    "### For North American video game sales, what’s the median?\n",
    "\n",
    "- Provide a secondary output showing ten games surrounding the median sales output\n",
    "\n",
    "- assume that games with the same median value are sorted in descending order"
   ]
  },
  {
   "cell_type": "code",
   "execution_count": 7,
   "metadata": {},
   "outputs": [
    {
     "data": {
      "text/plain": [
       "0.08"
      ]
     },
     "execution_count": 7,
     "metadata": {},
     "output_type": "execute_result"
    }
   ],
   "source": [
    "def na_median_sales():\n",
    "    na_sales = data_folder[\"NA_Sales\"]\n",
    "    na_median_sales = na_sales.median()\n",
    "    return na_median_sales\n",
    "\n",
    "na_median_sales()\n"
   ]
  },
  {
   "cell_type": "code",
   "execution_count": 8,
   "metadata": {},
   "outputs": [
    {
     "data": {
      "text/plain": [
       "['Dragon Warrior IV',\n",
       " 'Hunter: The Reckoning',\n",
       " \"Dora & Kai-Lan's Pet Shelter\",\n",
       " 'Hot Wheels: Stunt Track Challenge',\n",
       " 'FIFA Street',\n",
       " 'Colin McRae Rally 04',\n",
       " \"Dora's Cooking Club\",\n",
       " 'Blitz: The League II',\n",
       " 'Beyond Good & Evil',\n",
       " 'Syberia']"
      ]
     },
     "execution_count": 8,
     "metadata": {},
     "output_type": "execute_result"
    }
   ],
   "source": [
    "import numpy as np\n",
    "mgs = data_folder[\"NA_Sales\"].median()\n",
    "\n",
    "def ten_median_na_seller_names():\n",
    "    ten_names = []\n",
    "    ten_data_na_median_sales = data_folder[data_folder[\"NA_Sales\"] == np.mean(mgs)][[\"Name\", \"NA_Sales\"]]\n",
    "    ten_data_na_median_sales = ten_data_na_median_sales.sort_values(\"NA_Sales\", ascending=False)\n",
    "    ten_data_na_median_sales = ten_data_na_median_sales.iloc[:10].Name\n",
    "    for _ in ten_data_na_median_sales:\n",
    "        ten_names.append(_)\n",
    "    return ten_names\n",
    "\n",
    "\n",
    "ten_median_na_seller_names()\n"
   ]
  },
  {
   "cell_type": "markdown",
   "metadata": {},
   "source": [
    "### For the top-selling game of all time, how many standard deviations above/below the mean are its sales for North America?\n"
   ]
  },
  {
   "cell_type": "code",
   "execution_count": 9,
   "metadata": {},
   "outputs": [
    {
     "data": {
      "text/plain": [
       "50.47898767479108"
      ]
     },
     "execution_count": 9,
     "metadata": {},
     "output_type": "execute_result"
    }
   ],
   "source": [
    "\n",
    "def z_score_na_sales_games():\n",
    "    z_score_na_sales = ((data_folder[\"NA_Sales\"].max() - data_folder[\"NA_Sales\"].mean())/data_folder[\"NA_Sales\"].std())\n",
    "    return z_score_na_sales\n",
    "\n",
    "z_score_na_sales_games()\n"
   ]
  },
  {
   "cell_type": "markdown",
   "metadata": {},
   "source": [
    "### The Nintendo Wii seems to have outdone itself with games. How does its average number of sales compare with all of the other platforms? "
   ]
  },
  {
   "cell_type": "code",
   "execution_count": 10,
   "metadata": {},
   "outputs": [],
   "source": [
    "def wii_sales():\n",
    "    global_sales_Wii_Platform = data_folder[[\n",
    "        'Platform', 'Global_Sales']][data_folder['Platform'] == 'Wii'].mean().iloc[0]\n",
    "    global_sales_other_Platform = data_folder[[\n",
    "        'Platform', 'Global_Sales']][data_folder['Platform'] != 'Wii'].mean().iloc[0]\n",
    "\n",
    "    NA_Sales_Wii_Platform = data_folder[[\n",
    "        'Platform', 'NA_Sales']][data_folder['Platform'] == 'Wii'].mean().iloc[0]\n",
    "    NA_Sales_other_Platform = data_folder[[\n",
    "        'Platform', 'NA_Sales']][data_folder['Platform'] != 'Wii'].mean().iloc[0]\n",
    "\n",
    "    EU_Sales_Wii_Platform = data_folder[[\n",
    "        'Platform', 'EU_Sales']][data_folder['Platform'] == 'Wii'].mean().iloc[0]\n",
    "    EU_Sales_other_Platform = data_folder[[\n",
    "        'Platform', 'EU_Sales']][data_folder['Platform'] != 'Wii'].mean().iloc[0]\n",
    "\n",
    "    JP_Sales_Wii_Platform = data_folder[[\n",
    "        'Platform', 'JP_Sales']][data_folder['Platform'] == 'Wii'].mean().iloc[0]\n",
    "    JP_Sales_other_Platform = data_folder[[\n",
    "        'Platform', 'JP_Sales']][data_folder['Platform'] != 'Wii'].mean().iloc[0]\n",
    "        \n",
    "    Other_Sales_Wii_Platform = data_folder[[\n",
    "        'Platform', 'Other_Sales']][data_folder['Platform'] == 'Wii'].mean().iloc[0]\n",
    "    Other_Sales_other_Platform = data_folder[[\n",
    "        'Platform', 'Other_Sales']][data_folder['Platform'] != 'Wii'].mean().iloc[0]\n",
    "        \n",
    "    return f\"\"\"\n",
    "    |average_global_sales_Wii_Platform: ({global_sales_Wii_Platform},) average_global_sales_other_Platform: ({global_sales_other_Platform})|\n",
    "    |average_NA_Sales_Wii_Platform: ({NA_Sales_Wii_Platform}), average_NA_Sales_other_Platform: ({NA_Sales_other_Platform})|\n",
    "    |average_EU_Sales_Wii_Platform: ({EU_Sales_Wii_Platform}), average_EU_Sales_other_Platform: ({EU_Sales_other_Platform})|\n",
    "    |average_JP_Sales_Wii_Platform: ({JP_Sales_Wii_Platform}), average_JP_Sales_other_Platform: ({JP_Sales_other_Platform})|\n",
    "    |average_Other_Sales_Wii_Platform: ({Other_Sales_Wii_Platform}), average_Other_Sales_other_Platform: ({Other_Sales_other_Platform})|\n",
    "    \"\"\""
   ]
  },
  {
   "cell_type": "code",
   "execution_count": 11,
   "metadata": {},
   "outputs": [
    {
     "name": "stdout",
     "output_type": "stream",
     "text": [
      "\n",
      "    |average_global_sales_Wii_Platform: (0.6994037735849057,) average_global_sales_other_Platform: (0.5233896418516336)|\n",
      "    |average_NA_Sales_Wii_Platform: (0.383177358490566), average_NA_Sales_other_Platform: (0.2543861716755058)|\n",
      "    |average_EU_Sales_Wii_Platform: (0.20255094339622642), average_EU_Sales_other_Platform: (0.14180252733582138)|\n",
      "    |average_JP_Sales_Wii_Platform: (0.05233962264150944), average_JP_Sales_other_Platform: (0.0799888692463825)|\n",
      "    |average_Other_Sales_Wii_Platform: (0.06083773584905661), average_Other_Sales_other_Platform: (0.046954756760295945)|\n",
      "    \n"
     ]
    },
    {
     "name": "stderr",
     "output_type": "stream",
     "text": [
      "/tmp/ipykernel_16657/655969873.py:2: FutureWarning: Dropping of nuisance columns in DataFrame reductions (with 'numeric_only=None') is deprecated; in a future version this will raise TypeError.  Select only valid columns before calling the reduction.\n",
      "  global_sales_Wii_Platform = data_folder[[\n",
      "/tmp/ipykernel_16657/655969873.py:4: FutureWarning: Dropping of nuisance columns in DataFrame reductions (with 'numeric_only=None') is deprecated; in a future version this will raise TypeError.  Select only valid columns before calling the reduction.\n",
      "  global_sales_other_Platform = data_folder[[\n",
      "/tmp/ipykernel_16657/655969873.py:7: FutureWarning: Dropping of nuisance columns in DataFrame reductions (with 'numeric_only=None') is deprecated; in a future version this will raise TypeError.  Select only valid columns before calling the reduction.\n",
      "  NA_Sales_Wii_Platform = data_folder[[\n",
      "/tmp/ipykernel_16657/655969873.py:9: FutureWarning: Dropping of nuisance columns in DataFrame reductions (with 'numeric_only=None') is deprecated; in a future version this will raise TypeError.  Select only valid columns before calling the reduction.\n",
      "  NA_Sales_other_Platform = data_folder[[\n",
      "/tmp/ipykernel_16657/655969873.py:12: FutureWarning: Dropping of nuisance columns in DataFrame reductions (with 'numeric_only=None') is deprecated; in a future version this will raise TypeError.  Select only valid columns before calling the reduction.\n",
      "  EU_Sales_Wii_Platform = data_folder[[\n",
      "/tmp/ipykernel_16657/655969873.py:14: FutureWarning: Dropping of nuisance columns in DataFrame reductions (with 'numeric_only=None') is deprecated; in a future version this will raise TypeError.  Select only valid columns before calling the reduction.\n",
      "  EU_Sales_other_Platform = data_folder[[\n",
      "/tmp/ipykernel_16657/655969873.py:17: FutureWarning: Dropping of nuisance columns in DataFrame reductions (with 'numeric_only=None') is deprecated; in a future version this will raise TypeError.  Select only valid columns before calling the reduction.\n",
      "  JP_Sales_Wii_Platform = data_folder[[\n",
      "/tmp/ipykernel_16657/655969873.py:19: FutureWarning: Dropping of nuisance columns in DataFrame reductions (with 'numeric_only=None') is deprecated; in a future version this will raise TypeError.  Select only valid columns before calling the reduction.\n",
      "  JP_Sales_other_Platform = data_folder[[\n",
      "/tmp/ipykernel_16657/655969873.py:22: FutureWarning: Dropping of nuisance columns in DataFrame reductions (with 'numeric_only=None') is deprecated; in a future version this will raise TypeError.  Select only valid columns before calling the reduction.\n",
      "  Other_Sales_Wii_Platform = data_folder[[\n",
      "/tmp/ipykernel_16657/655969873.py:24: FutureWarning: Dropping of nuisance columns in DataFrame reductions (with 'numeric_only=None') is deprecated; in a future version this will raise TypeError.  Select only valid columns before calling the reduction.\n",
      "  Other_Sales_other_Platform = data_folder[[\n"
     ]
    }
   ],
   "source": [
    "print(wii_sales())\n"
   ]
  },
  {
   "cell_type": "markdown",
   "metadata": {},
   "source": [
    "### Come up with 3 more questions that can be answered with this data set.\n"
   ]
  },
  {
   "cell_type": "markdown",
   "metadata": {},
   "source": [
    "**what is the game that has the highest rank?**"
   ]
  },
  {
   "cell_type": "code",
   "execution_count": 12,
   "metadata": {},
   "outputs": [
    {
     "data": {
      "text/plain": [
       "'Wii Sports'"
      ]
     },
     "execution_count": 12,
     "metadata": {},
     "output_type": "execute_result"
    }
   ],
   "source": [
    "def highest_Rank_games():\n",
    "    highest_Rank = data_folder[[\"Name\",\"Rank\"]]\n",
    "    top_highest_Rank = highest_Rank.sort_values(\"Rank\").iloc[0].Name\n",
    "    return top_highest_Rank \n",
    "\n",
    "\n",
    "highest_Rank_games()\n"
   ]
  },
  {
   "cell_type": "markdown",
   "metadata": {},
   "source": [
    "**what is the game that has the highest global_sales?**"
   ]
  },
  {
   "cell_type": "code",
   "execution_count": 13,
   "metadata": {},
   "outputs": [
    {
     "data": {
      "text/plain": [
       "'Wii Sports'"
      ]
     },
     "execution_count": 13,
     "metadata": {},
     "output_type": "execute_result"
    }
   ],
   "source": [
    "def highest_global_sales_games():\n",
    "    highest_Rank = data_folder[[\"Name\", \"Global_Sales\"]]\n",
    "    top_highest_Rank = highest_Rank.sort_values(\"Global_Sales\", ascending=False).iloc[0].Name\n",
    "    return top_highest_Rank\n",
    "\n",
    "\n",
    "highest_global_sales_games()\n"
   ]
  },
  {
   "cell_type": "markdown",
   "metadata": {},
   "source": [
    "**in which year did the game that has the highest global sales published?**"
   ]
  },
  {
   "cell_type": "code",
   "execution_count": 14,
   "metadata": {},
   "outputs": [
    {
     "data": {
      "text/plain": [
       "2006"
      ]
     },
     "execution_count": 14,
     "metadata": {},
     "output_type": "execute_result"
    }
   ],
   "source": [
    "def highest__sales_games():\n",
    "    highest_Rank = data_folder[['Name', 'Year']][data_folder['Name'] == highest_global_sales_games()]\n",
    "    top_highest_Rank = int(highest_Rank.iloc[0].Year)\n",
    "    return top_highest_Rank\n",
    "\n",
    "\n",
    "highest__sales_games()\n"
   ]
  },
  {
   "cell_type": "markdown",
   "metadata": {},
   "source": [
    "## User Acceptance Tests"
   ]
  },
  {
   "cell_type": "code",
   "execution_count": 15,
   "metadata": {},
   "outputs": [
    {
     "name": "stdout",
     "output_type": "stream",
     "text": [
      "test_most_common_publisher    ## Success!!! ## \n",
      "test_most_common_platform    ## Success!!! ## \n",
      "test_most_common_Genre    ## Success!!! ## \n",
      "test_top_twenty_highest_grossing_games[0]    ## Success!!! ## \n",
      "test_top_twenty_highest_grossing_games[19]    ## Success!!! ## \n",
      "test_na_median_sales    ## Success!!! ## \n",
      "test_ten_median_na_seller_names    ## Success!!! ## \n"
     ]
    }
   ],
   "source": [
    "def test():\n",
    "\n",
    "    def assert_equal(actual, expected, test_name):\n",
    "        assert actual == expected, f\"Expected {expected} but got {actual}\"\n",
    "        print(f\"{test_name}    ## Success!!! ## \")\n",
    "\n",
    "    assert_equal(most_common_publisher(), 'Electronic Arts', 'test_most_common_publisher')\n",
    "\n",
    "    assert_equal(most_common_platform(), 'DS', 'test_most_common_platform')\n",
    "\n",
    "    assert_equal(most_common_Genre(), 'Action', 'test_most_common_Genre')\n",
    "\n",
    "    assert_equal(top_twenty_highest_grossing_games().iloc[0].Name, 'Wii Sports', 'test_top_twenty_highest_grossing_games[0]' )\n",
    "\n",
    "    assert_equal(top_twenty_highest_grossing_games(\n",
    "    ).iloc[19].Name, 'Brain Age: Train Your Brain in Minutes a Day', 'test_top_twenty_highest_grossing_games[19]')\n",
    "    \n",
    "    assert_equal(na_median_sales(), 0.08, \"test_na_median_sales\")\n",
    "    \n",
    "    assert_equal(ten_median_na_seller_names(), ['Dragon Warrior IV', 'Hunter: The Reckoning', \"Dora & Kai-Lan's Pet Shelter\", 'Hot Wheels: Stunt Track Challenge',\n",
    "                 'FIFA Street', 'Colin McRae Rally 04', \"Dora's Cooking Club\", 'Blitz: The League II', 'Beyond Good & Evil', 'Syberia'], \"test_ten_median_na_seller_names\")\n",
    "\n",
    "test()\n"
   ]
  }
 ],
 "metadata": {
  "interpreter": {
   "hash": "67c775015be63c26632402aedf6621c79fd65c74996675ad8ccea9fce9638be2"
  },
  "kernelspec": {
   "display_name": "Python 3.9.7 64-bit ('.venv': poetry)",
   "name": "python3"
  },
  "language_info": {
   "codemirror_mode": {
    "name": "ipython",
    "version": 3
   },
   "file_extension": ".py",
   "mimetype": "text/x-python",
   "name": "python",
   "nbconvert_exporter": "python",
   "pygments_lexer": "ipython3",
   "version": "3.9.7"
  },
  "orig_nbformat": 4
 },
 "nbformat": 4,
 "nbformat_minor": 2
}
