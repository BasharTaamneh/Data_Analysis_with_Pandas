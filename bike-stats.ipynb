{
 "cells": [
  {
   "cell_type": "code",
   "execution_count": 1,
   "metadata": {},
   "outputs": [
    {
     "name": "stdout",
     "output_type": "stream",
     "text": [
      "Data Analysis with Pandas\n"
     ]
    }
   ],
   "source": [
    "print(\"Data Analysis with Pandas\")"
   ]
  },
  {
   "cell_type": "markdown",
   "metadata": {},
   "source": [
    "# Data Analysis with Pandas"
   ]
  },
  {
   "cell_type": "markdown",
   "metadata": {},
   "source": [
    "## bike-stats"
   ]
  },
  {
   "cell_type": "code",
   "execution_count": 2,
   "metadata": {},
   "outputs": [],
   "source": [
    "import pandas as pd"
   ]
  },
  {
   "cell_type": "code",
   "execution_count": 3,
   "metadata": {},
   "outputs": [
    {
     "name": "stderr",
     "output_type": "stream",
     "text": [
      "/home/bashar/401level/vg-stats/.venv/lib/python3.9/site-packages/IPython/core/interactiveshell.py:3444: FutureWarning: The error_bad_lines argument has been deprecated and will be removed in a future version.\n",
      "\n",
      "\n",
      "  exec(code_obj, self.user_global_ns, self.user_ns)\n",
      "b'Skipping line 50794: expected 12 fields, saw 20\\n'\n"
     ]
    },
    {
     "data": {
      "text/html": [
       "<div>\n",
       "<style scoped>\n",
       "    .dataframe tbody tr th:only-of-type {\n",
       "        vertical-align: middle;\n",
       "    }\n",
       "\n",
       "    .dataframe tbody tr th {\n",
       "        vertical-align: top;\n",
       "    }\n",
       "\n",
       "    .dataframe thead th {\n",
       "        text-align: right;\n",
       "    }\n",
       "</style>\n",
       "<table border=\"1\" class=\"dataframe\">\n",
       "  <thead>\n",
       "    <tr style=\"text-align: right;\">\n",
       "      <th></th>\n",
       "      <th>trip_id</th>\n",
       "      <th>tripduration</th>\n",
       "      <th>birthyear</th>\n",
       "    </tr>\n",
       "  </thead>\n",
       "  <tbody>\n",
       "    <tr>\n",
       "      <th>count</th>\n",
       "      <td>286857.000000</td>\n",
       "      <td>286857.000000</td>\n",
       "      <td>181553.000000</td>\n",
       "    </tr>\n",
       "    <tr>\n",
       "      <th>mean</th>\n",
       "      <td>112431.968012</td>\n",
       "      <td>1178.295675</td>\n",
       "      <td>1979.759062</td>\n",
       "    </tr>\n",
       "    <tr>\n",
       "      <th>std</th>\n",
       "      <td>76565.154943</td>\n",
       "      <td>2038.458947</td>\n",
       "      <td>10.167119</td>\n",
       "    </tr>\n",
       "    <tr>\n",
       "      <th>min</th>\n",
       "      <td>431.000000</td>\n",
       "      <td>60.008000</td>\n",
       "      <td>1931.000000</td>\n",
       "    </tr>\n",
       "    <tr>\n",
       "      <th>25%</th>\n",
       "      <td>43051.000000</td>\n",
       "      <td>387.924000</td>\n",
       "      <td>1974.000000</td>\n",
       "    </tr>\n",
       "    <tr>\n",
       "      <th>50%</th>\n",
       "      <td>103487.000000</td>\n",
       "      <td>624.842000</td>\n",
       "      <td>1983.000000</td>\n",
       "    </tr>\n",
       "    <tr>\n",
       "      <th>75%</th>\n",
       "      <td>179545.000000</td>\n",
       "      <td>1118.466000</td>\n",
       "      <td>1987.000000</td>\n",
       "    </tr>\n",
       "    <tr>\n",
       "      <th>max</th>\n",
       "      <td>255245.000000</td>\n",
       "      <td>28794.398000</td>\n",
       "      <td>1999.000000</td>\n",
       "    </tr>\n",
       "  </tbody>\n",
       "</table>\n",
       "</div>"
      ],
      "text/plain": [
       "             trip_id   tripduration      birthyear\n",
       "count  286857.000000  286857.000000  181553.000000\n",
       "mean   112431.968012    1178.295675    1979.759062\n",
       "std     76565.154943    2038.458947      10.167119\n",
       "min       431.000000      60.008000    1931.000000\n",
       "25%     43051.000000     387.924000    1974.000000\n",
       "50%    103487.000000     624.842000    1983.000000\n",
       "75%    179545.000000    1118.466000    1987.000000\n",
       "max    255245.000000   28794.398000    1999.000000"
      ]
     },
     "execution_count": 3,
     "metadata": {},
     "output_type": "execute_result"
    }
   ],
   "source": [
    "bike_trip = pd.read_csv('trip.csv', error_bad_lines=False)\n",
    "bike_trip.describe()"
   ]
  },
  {
   "cell_type": "code",
   "execution_count": 4,
   "metadata": {},
   "outputs": [
    {
     "data": {
      "text/html": [
       "<div>\n",
       "<style scoped>\n",
       "    .dataframe tbody tr th:only-of-type {\n",
       "        vertical-align: middle;\n",
       "    }\n",
       "\n",
       "    .dataframe tbody tr th {\n",
       "        vertical-align: top;\n",
       "    }\n",
       "\n",
       "    .dataframe thead th {\n",
       "        text-align: right;\n",
       "    }\n",
       "</style>\n",
       "<table border=\"1\" class=\"dataframe\">\n",
       "  <thead>\n",
       "    <tr style=\"text-align: right;\">\n",
       "      <th></th>\n",
       "      <th>lat</th>\n",
       "      <th>long</th>\n",
       "      <th>install_dockcount</th>\n",
       "      <th>current_dockcount</th>\n",
       "    </tr>\n",
       "  </thead>\n",
       "  <tbody>\n",
       "    <tr>\n",
       "      <th>count</th>\n",
       "      <td>58.000000</td>\n",
       "      <td>58.000000</td>\n",
       "      <td>58.000000</td>\n",
       "      <td>58.000000</td>\n",
       "    </tr>\n",
       "    <tr>\n",
       "      <th>mean</th>\n",
       "      <td>47.624796</td>\n",
       "      <td>-122.327242</td>\n",
       "      <td>17.586207</td>\n",
       "      <td>16.517241</td>\n",
       "    </tr>\n",
       "    <tr>\n",
       "      <th>std</th>\n",
       "      <td>0.019066</td>\n",
       "      <td>0.014957</td>\n",
       "      <td>3.060985</td>\n",
       "      <td>5.117021</td>\n",
       "    </tr>\n",
       "    <tr>\n",
       "      <th>min</th>\n",
       "      <td>47.598488</td>\n",
       "      <td>-122.355230</td>\n",
       "      <td>12.000000</td>\n",
       "      <td>0.000000</td>\n",
       "    </tr>\n",
       "    <tr>\n",
       "      <th>25%</th>\n",
       "      <td>47.613239</td>\n",
       "      <td>-122.338735</td>\n",
       "      <td>16.000000</td>\n",
       "      <td>16.000000</td>\n",
       "    </tr>\n",
       "    <tr>\n",
       "      <th>50%</th>\n",
       "      <td>47.618591</td>\n",
       "      <td>-122.328206</td>\n",
       "      <td>18.000000</td>\n",
       "      <td>18.000000</td>\n",
       "    </tr>\n",
       "    <tr>\n",
       "      <th>75%</th>\n",
       "      <td>47.627712</td>\n",
       "      <td>-122.316691</td>\n",
       "      <td>18.000000</td>\n",
       "      <td>18.000000</td>\n",
       "    </tr>\n",
       "    <tr>\n",
       "      <th>max</th>\n",
       "      <td>47.666145</td>\n",
       "      <td>-122.284119</td>\n",
       "      <td>30.000000</td>\n",
       "      <td>26.000000</td>\n",
       "    </tr>\n",
       "  </tbody>\n",
       "</table>\n",
       "</div>"
      ],
      "text/plain": [
       "             lat        long  install_dockcount  current_dockcount\n",
       "count  58.000000   58.000000          58.000000          58.000000\n",
       "mean   47.624796 -122.327242          17.586207          16.517241\n",
       "std     0.019066    0.014957           3.060985           5.117021\n",
       "min    47.598488 -122.355230          12.000000           0.000000\n",
       "25%    47.613239 -122.338735          16.000000          16.000000\n",
       "50%    47.618591 -122.328206          18.000000          18.000000\n",
       "75%    47.627712 -122.316691          18.000000          18.000000\n",
       "max    47.666145 -122.284119          30.000000          26.000000"
      ]
     },
     "execution_count": 4,
     "metadata": {},
     "output_type": "execute_result"
    }
   ],
   "source": [
    "bike_station = pd.read_csv('station.csv')\n",
    "bike_station.describe()"
   ]
  },
  {
   "cell_type": "code",
   "execution_count": 5,
   "metadata": {},
   "outputs": [
    {
     "data": {
      "text/html": [
       "<div>\n",
       "<style scoped>\n",
       "    .dataframe tbody tr th:only-of-type {\n",
       "        vertical-align: middle;\n",
       "    }\n",
       "\n",
       "    .dataframe tbody tr th {\n",
       "        vertical-align: top;\n",
       "    }\n",
       "\n",
       "    .dataframe thead th {\n",
       "        text-align: right;\n",
       "    }\n",
       "</style>\n",
       "<table border=\"1\" class=\"dataframe\">\n",
       "  <thead>\n",
       "    <tr style=\"text-align: right;\">\n",
       "      <th></th>\n",
       "      <th>Max_Temperature_F</th>\n",
       "      <th>Mean_Temperature_F</th>\n",
       "      <th>Min_TemperatureF</th>\n",
       "      <th>Max_Dew_Point_F</th>\n",
       "      <th>MeanDew_Point_F</th>\n",
       "      <th>Min_Dewpoint_F</th>\n",
       "      <th>Max_Humidity</th>\n",
       "      <th>Mean_Humidity</th>\n",
       "      <th>Min_Humidity</th>\n",
       "      <th>Max_Sea_Level_Pressure_In</th>\n",
       "      <th>Mean_Sea_Level_Pressure_In</th>\n",
       "      <th>Min_Sea_Level_Pressure_In</th>\n",
       "      <th>Max_Visibility_Miles</th>\n",
       "      <th>Mean_Visibility_Miles</th>\n",
       "      <th>Min_Visibility_Miles</th>\n",
       "      <th>Max_Wind_Speed_MPH</th>\n",
       "      <th>Mean_Wind_Speed_MPH</th>\n",
       "      <th>Precipitation_In</th>\n",
       "    </tr>\n",
       "  </thead>\n",
       "  <tbody>\n",
       "    <tr>\n",
       "      <th>count</th>\n",
       "      <td>689.000000</td>\n",
       "      <td>688.000000</td>\n",
       "      <td>689.000000</td>\n",
       "      <td>689.000000</td>\n",
       "      <td>689.000000</td>\n",
       "      <td>689.000000</td>\n",
       "      <td>689.000000</td>\n",
       "      <td>689.000000</td>\n",
       "      <td>689.000000</td>\n",
       "      <td>689.000000</td>\n",
       "      <td>689.000000</td>\n",
       "      <td>689.000000</td>\n",
       "      <td>689.000000</td>\n",
       "      <td>689.000000</td>\n",
       "      <td>689.000000</td>\n",
       "      <td>689.000000</td>\n",
       "      <td>689.00000</td>\n",
       "      <td>689.000000</td>\n",
       "    </tr>\n",
       "    <tr>\n",
       "      <th>mean</th>\n",
       "      <td>64.027576</td>\n",
       "      <td>56.584302</td>\n",
       "      <td>49.454282</td>\n",
       "      <td>48.571843</td>\n",
       "      <td>45.021771</td>\n",
       "      <td>40.873730</td>\n",
       "      <td>84.541364</td>\n",
       "      <td>68.506531</td>\n",
       "      <td>49.973875</td>\n",
       "      <td>30.121742</td>\n",
       "      <td>30.034761</td>\n",
       "      <td>29.940610</td>\n",
       "      <td>9.989840</td>\n",
       "      <td>9.429608</td>\n",
       "      <td>7.245283</td>\n",
       "      <td>11.085631</td>\n",
       "      <td>4.63135</td>\n",
       "      <td>0.105065</td>\n",
       "    </tr>\n",
       "    <tr>\n",
       "      <th>std</th>\n",
       "      <td>12.427843</td>\n",
       "      <td>10.408058</td>\n",
       "      <td>9.451437</td>\n",
       "      <td>7.501230</td>\n",
       "      <td>7.914025</td>\n",
       "      <td>8.854608</td>\n",
       "      <td>9.718948</td>\n",
       "      <td>12.701871</td>\n",
       "      <td>15.825701</td>\n",
       "      <td>0.183367</td>\n",
       "      <td>0.197503</td>\n",
       "      <td>0.221803</td>\n",
       "      <td>0.266679</td>\n",
       "      <td>1.174360</td>\n",
       "      <td>3.281278</td>\n",
       "      <td>3.921087</td>\n",
       "      <td>2.78032</td>\n",
       "      <td>0.235644</td>\n",
       "    </tr>\n",
       "    <tr>\n",
       "      <th>min</th>\n",
       "      <td>39.000000</td>\n",
       "      <td>33.000000</td>\n",
       "      <td>23.000000</td>\n",
       "      <td>10.000000</td>\n",
       "      <td>4.000000</td>\n",
       "      <td>1.000000</td>\n",
       "      <td>40.000000</td>\n",
       "      <td>24.000000</td>\n",
       "      <td>15.000000</td>\n",
       "      <td>29.470000</td>\n",
       "      <td>29.310000</td>\n",
       "      <td>29.140000</td>\n",
       "      <td>3.000000</td>\n",
       "      <td>1.000000</td>\n",
       "      <td>0.000000</td>\n",
       "      <td>4.000000</td>\n",
       "      <td>0.00000</td>\n",
       "      <td>0.000000</td>\n",
       "    </tr>\n",
       "    <tr>\n",
       "      <th>25%</th>\n",
       "      <td>55.000000</td>\n",
       "      <td>48.000000</td>\n",
       "      <td>43.000000</td>\n",
       "      <td>44.000000</td>\n",
       "      <td>41.000000</td>\n",
       "      <td>36.000000</td>\n",
       "      <td>78.000000</td>\n",
       "      <td>60.000000</td>\n",
       "      <td>38.000000</td>\n",
       "      <td>30.010000</td>\n",
       "      <td>29.930000</td>\n",
       "      <td>29.840000</td>\n",
       "      <td>10.000000</td>\n",
       "      <td>9.000000</td>\n",
       "      <td>4.000000</td>\n",
       "      <td>8.000000</td>\n",
       "      <td>3.00000</td>\n",
       "      <td>0.000000</td>\n",
       "    </tr>\n",
       "    <tr>\n",
       "      <th>50%</th>\n",
       "      <td>63.000000</td>\n",
       "      <td>56.000000</td>\n",
       "      <td>50.000000</td>\n",
       "      <td>50.000000</td>\n",
       "      <td>46.000000</td>\n",
       "      <td>42.000000</td>\n",
       "      <td>86.000000</td>\n",
       "      <td>70.000000</td>\n",
       "      <td>50.000000</td>\n",
       "      <td>30.120000</td>\n",
       "      <td>30.040000</td>\n",
       "      <td>29.960000</td>\n",
       "      <td>10.000000</td>\n",
       "      <td>10.000000</td>\n",
       "      <td>9.000000</td>\n",
       "      <td>10.000000</td>\n",
       "      <td>4.00000</td>\n",
       "      <td>0.000000</td>\n",
       "    </tr>\n",
       "    <tr>\n",
       "      <th>75%</th>\n",
       "      <td>73.000000</td>\n",
       "      <td>65.000000</td>\n",
       "      <td>57.000000</td>\n",
       "      <td>54.000000</td>\n",
       "      <td>51.000000</td>\n",
       "      <td>47.000000</td>\n",
       "      <td>90.000000</td>\n",
       "      <td>79.000000</td>\n",
       "      <td>63.000000</td>\n",
       "      <td>30.240000</td>\n",
       "      <td>30.160000</td>\n",
       "      <td>30.080000</td>\n",
       "      <td>10.000000</td>\n",
       "      <td>10.000000</td>\n",
       "      <td>10.000000</td>\n",
       "      <td>13.000000</td>\n",
       "      <td>6.00000</td>\n",
       "      <td>0.090000</td>\n",
       "    </tr>\n",
       "    <tr>\n",
       "      <th>max</th>\n",
       "      <td>98.000000</td>\n",
       "      <td>83.000000</td>\n",
       "      <td>70.000000</td>\n",
       "      <td>77.000000</td>\n",
       "      <td>59.000000</td>\n",
       "      <td>57.000000</td>\n",
       "      <td>100.000000</td>\n",
       "      <td>95.000000</td>\n",
       "      <td>87.000000</td>\n",
       "      <td>30.860000</td>\n",
       "      <td>30.810000</td>\n",
       "      <td>30.750000</td>\n",
       "      <td>10.000000</td>\n",
       "      <td>10.000000</td>\n",
       "      <td>10.000000</td>\n",
       "      <td>30.000000</td>\n",
       "      <td>23.00000</td>\n",
       "      <td>2.200000</td>\n",
       "    </tr>\n",
       "  </tbody>\n",
       "</table>\n",
       "</div>"
      ],
      "text/plain": [
       "       Max_Temperature_F  Mean_Temperature_F  Min_TemperatureF  \\\n",
       "count         689.000000          688.000000        689.000000   \n",
       "mean           64.027576           56.584302         49.454282   \n",
       "std            12.427843           10.408058          9.451437   \n",
       "min            39.000000           33.000000         23.000000   \n",
       "25%            55.000000           48.000000         43.000000   \n",
       "50%            63.000000           56.000000         50.000000   \n",
       "75%            73.000000           65.000000         57.000000   \n",
       "max            98.000000           83.000000         70.000000   \n",
       "\n",
       "       Max_Dew_Point_F  MeanDew_Point_F  Min_Dewpoint_F  Max_Humidity  \\\n",
       "count       689.000000       689.000000      689.000000    689.000000   \n",
       "mean         48.571843        45.021771       40.873730     84.541364   \n",
       "std           7.501230         7.914025        8.854608      9.718948   \n",
       "min          10.000000         4.000000        1.000000     40.000000   \n",
       "25%          44.000000        41.000000       36.000000     78.000000   \n",
       "50%          50.000000        46.000000       42.000000     86.000000   \n",
       "75%          54.000000        51.000000       47.000000     90.000000   \n",
       "max          77.000000        59.000000       57.000000    100.000000   \n",
       "\n",
       "       Mean_Humidity  Min_Humidity  Max_Sea_Level_Pressure_In  \\\n",
       "count     689.000000    689.000000                 689.000000   \n",
       "mean       68.506531     49.973875                  30.121742   \n",
       "std        12.701871     15.825701                   0.183367   \n",
       "min        24.000000     15.000000                  29.470000   \n",
       "25%        60.000000     38.000000                  30.010000   \n",
       "50%        70.000000     50.000000                  30.120000   \n",
       "75%        79.000000     63.000000                  30.240000   \n",
       "max        95.000000     87.000000                  30.860000   \n",
       "\n",
       "       Mean_Sea_Level_Pressure_In  Min_Sea_Level_Pressure_In  \\\n",
       "count                  689.000000                 689.000000   \n",
       "mean                    30.034761                  29.940610   \n",
       "std                      0.197503                   0.221803   \n",
       "min                     29.310000                  29.140000   \n",
       "25%                     29.930000                  29.840000   \n",
       "50%                     30.040000                  29.960000   \n",
       "75%                     30.160000                  30.080000   \n",
       "max                     30.810000                  30.750000   \n",
       "\n",
       "       Max_Visibility_Miles  Mean_Visibility_Miles  Min_Visibility_Miles  \\\n",
       "count            689.000000             689.000000            689.000000   \n",
       "mean               9.989840               9.429608              7.245283   \n",
       "std                0.266679               1.174360              3.281278   \n",
       "min                3.000000               1.000000              0.000000   \n",
       "25%               10.000000               9.000000              4.000000   \n",
       "50%               10.000000              10.000000              9.000000   \n",
       "75%               10.000000              10.000000             10.000000   \n",
       "max               10.000000              10.000000             10.000000   \n",
       "\n",
       "       Max_Wind_Speed_MPH  Mean_Wind_Speed_MPH  Precipitation_In  \n",
       "count          689.000000            689.00000        689.000000  \n",
       "mean            11.085631              4.63135          0.105065  \n",
       "std              3.921087              2.78032          0.235644  \n",
       "min              4.000000              0.00000          0.000000  \n",
       "25%              8.000000              3.00000          0.000000  \n",
       "50%             10.000000              4.00000          0.000000  \n",
       "75%             13.000000              6.00000          0.090000  \n",
       "max             30.000000             23.00000          2.200000  "
      ]
     },
     "execution_count": 5,
     "metadata": {},
     "output_type": "execute_result"
    }
   ],
   "source": [
    "bike_weather = pd.read_csv('weather.csv')\n",
    "bike_weather.describe()"
   ]
  },
  {
   "cell_type": "markdown",
   "metadata": {},
   "source": [
    "## What is the average trip duration for a borrowed bicycle?"
   ]
  },
  {
   "cell_type": "code",
   "execution_count": 6,
   "metadata": {},
   "outputs": [
    {
     "data": {
      "text/plain": [
       "1178.2956753399776"
      ]
     },
     "execution_count": 6,
     "metadata": {},
     "output_type": "execute_result"
    }
   ],
   "source": [
    "\n",
    "def borrowed_bicycle_average_trip_duration():\n",
    "    average_trip_duration = bike_trip['tripduration'].mean()\n",
    "    return average_trip_duration\n",
    "\n",
    "\n",
    "borrowed_bicycle_average_trip_duration()\n"
   ]
  },
  {
   "cell_type": "markdown",
   "metadata": {},
   "source": [
    "## What’s the most common age of a bicycle-sharer"
   ]
  },
  {
   "cell_type": "code",
   "execution_count": 7,
   "metadata": {},
   "outputs": [
    {
     "data": {
      "text/plain": [
       "34"
      ]
     },
     "execution_count": 7,
     "metadata": {},
     "output_type": "execute_result"
    }
   ],
   "source": [
    "def common_age_bicycle_sharer():\n",
    "    common_age = bike_trip['birthyear'].mode().iloc[0]\n",
    "    return (2021 - int( common_age))\n",
    "\n",
    "\n",
    "common_age_bicycle_sharer()\n"
   ]
  },
  {
   "cell_type": "markdown",
   "metadata": {},
   "source": [
    "## Given all the weather data here, find the average precipitation per month, and the median precipitation"
   ]
  },
  {
   "cell_type": "code",
   "execution_count": 8,
   "metadata": {},
   "outputs": [
    {
     "name": "stderr",
     "output_type": "stream",
     "text": [
      "/tmp/ipykernel_16626/933807651.py:2: FutureWarning: Dropping of nuisance columns in DataFrame reductions (with 'numeric_only=None') is deprecated; in a future version this will raise TypeError.  Select only valid columns before calling the reduction.\n",
      "  avg_precipitation_data = bike_weather[[\"Date\",'Precipitation_In']].mean().iloc[0]\n",
      "/tmp/ipykernel_16626/933807651.py:3: FutureWarning: Dropping of nuisance columns in DataFrame reductions (with 'numeric_only=None') is deprecated; in a future version this will raise TypeError.  Select only valid columns before calling the reduction.\n",
      "  precipitation_median = bike_weather[[\"Date\", 'Precipitation_In']].median().iloc[0]\n"
     ]
    },
    {
     "data": {
      "text/plain": [
       "(0.10506531204644412, 0.0)"
      ]
     },
     "execution_count": 8,
     "metadata": {},
     "output_type": "execute_result"
    }
   ],
   "source": [
    "def average_precipitation_median():\n",
    "    avg_precipitation_data = bike_weather[[\"Date\",'Precipitation_In']].mean().iloc[0]\n",
    "    precipitation_median = bike_weather[[\"Date\", 'Precipitation_In']].median().iloc[0]\n",
    "    return avg_precipitation_data, precipitation_median\n",
    "\n",
    "\n",
    "average_precipitation_median()\n"
   ]
  },
  {
   "cell_type": "markdown",
   "metadata": {},
   "source": [
    "## What’s the average number of bikes at a given bike station?"
   ]
  },
  {
   "cell_type": "code",
   "execution_count": 9,
   "metadata": {},
   "outputs": [
    {
     "data": {
      "text/plain": [
       "16"
      ]
     },
     "execution_count": 9,
     "metadata": {},
     "output_type": "execute_result"
    }
   ],
   "source": [
    "def average_number_of_bikes():\n",
    "    bike_average = bike_station['current_dockcount'].mean()\n",
    "    return int(bike_average)\n",
    "\n",
    "\n",
    "average_number_of_bikes()\n"
   ]
  },
  {
   "cell_type": "markdown",
   "metadata": {},
   "source": [
    "## When a bike station is modified, is it more likely that it’ll lose bikes or gain bikes? How do you know?"
   ]
  },
  {
   "cell_type": "code",
   "execution_count": 10,
   "metadata": {},
   "outputs": [
    {
     "data": {
      "text/plain": [
       "'will lose'"
      ]
     },
     "execution_count": 10,
     "metadata": {},
     "output_type": "execute_result"
    }
   ],
   "source": [
    "def stats_after_modification():\n",
    "    install_avg = bike_station['install_dockcount'].mean()\n",
    "    current_avg = bike_station['current_dockcount'].mean()\n",
    "    if install_avg > current_avg:\n",
    "        return(\"will lose\")\n",
    "    else:\n",
    "        return(\"will gain\")\n",
    "\n",
    "\n",
    "stats_after_modification()\n"
   ]
  },
  {
   "cell_type": "markdown",
   "metadata": {},
   "source": [
    "# User Acceptance Tests"
   ]
  },
  {
   "cell_type": "code",
   "execution_count": 11,
   "metadata": {},
   "outputs": [
    {
     "name": "stdout",
     "output_type": "stream",
     "text": [
      "test_borrowed_bicycle_average_trip_duration ## Success!!! ##\n",
      "test_common_age_bicycle_sharer ## Success!!! ##\n",
      "test_average_precipitation_median ## Success!!! ##\n",
      "test_average_number_of_bikes ## Success!!! ##\n",
      "test_stats_after_modification ## Success!!! ##\n"
     ]
    },
    {
     "name": "stderr",
     "output_type": "stream",
     "text": [
      "/tmp/ipykernel_16626/933807651.py:2: FutureWarning: Dropping of nuisance columns in DataFrame reductions (with 'numeric_only=None') is deprecated; in a future version this will raise TypeError.  Select only valid columns before calling the reduction.\n",
      "  avg_precipitation_data = bike_weather[[\"Date\",'Precipitation_In']].mean().iloc[0]\n",
      "/tmp/ipykernel_16626/933807651.py:3: FutureWarning: Dropping of nuisance columns in DataFrame reductions (with 'numeric_only=None') is deprecated; in a future version this will raise TypeError.  Select only valid columns before calling the reduction.\n",
      "  precipitation_median = bike_weather[[\"Date\", 'Precipitation_In']].median().iloc[0]\n"
     ]
    }
   ],
   "source": [
    "def test():\n",
    "    def assert_equal(actual, expected, test_name):\n",
    "        assert actual == expected, f\"Expected {expected} but got {actual}\"\n",
    "        print(test_name,  \"## Success!!! ##\")\n",
    "    \n",
    "    assert_equal(borrowed_bicycle_average_trip_duration(), 1178.2956753399776, 'test_borrowed_bicycle_average_trip_duration')\n",
    "\n",
    "    assert_equal(common_age_bicycle_sharer(), 34, 'test_common_age_bicycle_sharer')\n",
    "\n",
    "    assert_equal(average_precipitation_median(), (0.10506531204644412, 0.0), 'test_average_precipitation_median')\n",
    "\n",
    "    assert_equal(average_number_of_bikes(), 16, 'test_average_number_of_bikes')\n",
    "\n",
    "    assert_equal(stats_after_modification(), \"will lose\", 'test_stats_after_modification')\n",
    "\n",
    "\n",
    "test()\n"
   ]
  }
 ],
 "metadata": {
  "interpreter": {
   "hash": "67c775015be63c26632402aedf6621c79fd65c74996675ad8ccea9fce9638be2"
  },
  "kernelspec": {
   "display_name": "Python 3.9.7 64-bit ('.venv': poetry)",
   "name": "python3"
  },
  "language_info": {
   "codemirror_mode": {
    "name": "ipython",
    "version": 3
   },
   "file_extension": ".py",
   "mimetype": "text/x-python",
   "name": "python",
   "nbconvert_exporter": "python",
   "pygments_lexer": "ipython3",
   "version": "3.9.7"
  },
  "orig_nbformat": 4
 },
 "nbformat": 4,
 "nbformat_minor": 2
}
